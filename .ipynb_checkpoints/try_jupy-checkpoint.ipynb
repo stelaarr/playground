{
 "cells": [
  {
   "cell_type": "code",
   "execution_count": 2,
   "id": "b007bcd9",
   "metadata": {
    "scrolled": true
   },
   "outputs": [
    {
     "name": "stdout",
     "output_type": "stream",
     "text": [
      "Collecting transformers\n",
      "  Downloading transformers-4.45.2-py3-none-any.whl.metadata (44 kB)\n",
      "Collecting filelock (from transformers)\n",
      "  Downloading filelock-3.16.1-py3-none-any.whl.metadata (2.9 kB)\n",
      "Collecting huggingface-hub<1.0,>=0.23.2 (from transformers)\n",
      "  Downloading huggingface_hub-0.26.1-py3-none-any.whl.metadata (13 kB)\n",
      "Requirement already satisfied: numpy>=1.17 in /home/x_stear/miniconda3/envs/gals/lib/python3.8/site-packages (from transformers) (1.21.2)\n",
      "Requirement already satisfied: packaging>=20.0 in /home/x_stear/miniconda3/envs/gals/lib/python3.8/site-packages (from transformers) (24.1)\n",
      "Requirement already satisfied: pyyaml>=5.1 in /home/x_stear/miniconda3/envs/gals/lib/python3.8/site-packages (from transformers) (6.0.2)\n",
      "Requirement already satisfied: regex!=2019.12.17 in /home/x_stear/miniconda3/envs/gals/lib/python3.8/site-packages (from transformers) (2021.8.28)\n",
      "Requirement already satisfied: requests in /home/x_stear/miniconda3/envs/gals/lib/python3.8/site-packages (from transformers) (2.26.0)\n",
      "Collecting safetensors>=0.4.1 (from transformers)\n",
      "  Downloading safetensors-0.4.5-cp38-cp38-manylinux_2_17_x86_64.manylinux2014_x86_64.whl.metadata (3.8 kB)\n",
      "Collecting tokenizers<0.21,>=0.20 (from transformers)\n",
      "  Downloading tokenizers-0.20.1-cp38-cp38-manylinux_2_17_x86_64.manylinux2014_x86_64.whl.metadata (6.7 kB)\n",
      "Requirement already satisfied: tqdm>=4.27 in /home/x_stear/miniconda3/envs/gals/lib/python3.8/site-packages (from transformers) (4.62.2)\n",
      "Requirement already satisfied: fsspec>=2023.5.0 in /home/x_stear/miniconda3/envs/gals/lib/python3.8/site-packages (from huggingface-hub<1.0,>=0.23.2->transformers) (2024.9.0)\n",
      "Requirement already satisfied: typing-extensions>=3.7.4.3 in /home/x_stear/miniconda3/envs/gals/lib/python3.8/site-packages (from huggingface-hub<1.0,>=0.23.2->transformers) (4.12.2)\n",
      "Requirement already satisfied: urllib3<1.27,>=1.21.1 in /home/x_stear/miniconda3/envs/gals/lib/python3.8/site-packages (from requests->transformers) (1.26.19)\n",
      "Requirement already satisfied: certifi>=2017.4.17 in /home/x_stear/miniconda3/envs/gals/lib/python3.8/site-packages (from requests->transformers) (2024.8.30)\n",
      "Requirement already satisfied: charset-normalizer~=2.0.0 in /home/x_stear/miniconda3/envs/gals/lib/python3.8/site-packages (from requests->transformers) (2.0.12)\n",
      "Requirement already satisfied: idna<4,>=2.5 in /home/x_stear/miniconda3/envs/gals/lib/python3.8/site-packages (from requests->transformers) (3.10)\n",
      "Downloading transformers-4.45.2-py3-none-any.whl (9.9 MB)\n",
      "\u001b[2K   \u001b[90m━━━━━━━━━━━━━━━━━━━━━━━━━━━━━━━━━━━━━━━━\u001b[0m \u001b[32m9.9/9.9 MB\u001b[0m \u001b[31m111.4 MB/s\u001b[0m eta \u001b[36m0:00:00\u001b[0m\n",
      "\u001b[?25hDownloading huggingface_hub-0.26.1-py3-none-any.whl (447 kB)\n",
      "Downloading safetensors-0.4.5-cp38-cp38-manylinux_2_17_x86_64.manylinux2014_x86_64.whl (436 kB)\n",
      "Downloading tokenizers-0.20.1-cp38-cp38-manylinux_2_17_x86_64.manylinux2014_x86_64.whl (3.0 MB)\n",
      "\u001b[2K   \u001b[90m━━━━━━━━━━━━━━━━━━━━━━━━━━━━━━━━━━━━━━━━\u001b[0m \u001b[32m3.0/3.0 MB\u001b[0m \u001b[31m42.4 MB/s\u001b[0m eta \u001b[36m0:00:00\u001b[0m\n",
      "\u001b[?25hDownloading filelock-3.16.1-py3-none-any.whl (16 kB)\n",
      "Installing collected packages: safetensors, filelock, huggingface-hub, tokenizers, transformers\n",
      "Successfully installed filelock-3.16.1 huggingface-hub-0.26.1 safetensors-0.4.5 tokenizers-0.20.1 transformers-4.45.2\n",
      "Note: you may need to restart the kernel to use updated packages.\n"
     ]
    }
   ],
   "source": [
    "pip install transformers"
   ]
  },
  {
   "cell_type": "code",
   "execution_count": 1,
   "id": "c1df4814",
   "metadata": {},
   "outputs": [],
   "source": [
    "import os, sys\n",
    "import numpy as np\n",
    "import matplotlib.pyplot as plt\n",
    "from PIL import Image\n",
    "import torchvision\n",
    "import torch\n",
    "from torch.utils.data import Dataset, DataLoader\n",
    "import torchvision.transforms as transforms\n",
    "# Add the CLIP folder to the Python path\n",
    "\n",
    "from CLIP.clip import clip\n",
    "from transformers import CLIPProcessor, CLIPModel"
   ]
  },
  {
   "cell_type": "code",
   "execution_count": 2,
   "id": "766a421b",
   "metadata": {},
   "outputs": [
    {
     "data": {
      "image/png": "[encoded data removed]",
      "text/plain": [
       "<Figure size 1200x600 with 1 Axes>"
      ]
     },
     "metadata": {},
     "output_type": "display_data"
    }
   ],
   "source": [
    "# Set the path to the train and test directories\n",
    "train_dir = 'data/train'  # Adjust if necessary\n",
    "test_dir = 'data/test'\n",
    "\n",
    "# Function to load images and labels\n",
    "def load_mnist_data(data_dir):\n",
    "    images = []\n",
    "    labels = []\n",
    "    \n",
    "    for label in os.listdir(data_dir):\n",
    "        label_dir = os.path.join(data_dir, label)\n",
    "        if os.path.isdir(label_dir):\n",
    "            for img_file in os.listdir(label_dir):\n",
    "                img_path = os.path.join(label_dir, img_file)\n",
    "                img = Image.open(img_path).convert('L')  # Convert to grayscale\n",
    "                images.append(np.array(img))\n",
    "                labels.append(int(label[-1]))  # Extract label from folder name\n",
    "                \n",
    "    return np.array(images), np.array(labels)\n",
    "\n",
    "# Load train and test data\n",
    "train_images, train_labels = load_mnist_data(train_dir)\n",
    "test_images, test_labels = load_mnist_data(test_dir)\n",
    "\n",
    "# Visualize some images with their labels\n",
    "def plot_images(images, labels, n=10):\n",
    "    plt.figure(figsize=(12, 6))\n",
    "    for i in range(n):\n",
    "        plt.subplot(2, 5, i + 1)\n",
    "        plt.imshow(images[i], cmap='gray')\n",
    "        plt.title(f'Label: {labels[i]}')\n",
    "        plt.axis('off')\n",
    "    plt.tight_layout()\n",
    "    plt.show()\n",
    "\n",
    "# Plot the first 10 images from the training set\n",
    "plot_images(train_images, train_labels, n=1)"
   ]
  },
  {
   "cell_type": "code",
   "execution_count": 16,
   "id": "1273ea4d",
   "metadata": {},
   "outputs": [
    {
     "data": {
      "image/png": "[encoded data removed]",
      "text/plain": [
       "<Figure size 600x600 with 1 Axes>"
      ]
     },
     "metadata": {},
     "output_type": "display_data"
    }
   ],
   "source": [
    "# Custom dataset class\n",
    "class CustomMNIST(Dataset):\n",
    "    def __init__(self, data_dir, transform=None):\n",
    "        self.data_dir = data_dir\n",
    "        self.transform = transform\n",
    "        self.images = []\n",
    "        self.labels = []\n",
    "\n",
    "        # Load images and labels from the directory\n",
    "        for label in os.listdir(data_dir):\n",
    "            label_dir = os.path.join(data_dir, label)\n",
    "            if os.path.isdir(label_dir):\n",
    "                for img_file in os.listdir(label_dir):\n",
    "                    img_path = os.path.join(label_dir, img_file)\n",
    "                    self.images.append(img_path)\n",
    "                    self.labels.append(int(label[-1]))  # Extract label from folder name\n",
    "\n",
    "    def __len__(self):\n",
    "        return len(self.images)\n",
    "\n",
    "    def __getitem__(self, idx):\n",
    "        img_path = self.images[idx]\n",
    "        image = Image.open(img_path).convert('L')  # Convert to grayscale\n",
    "        label = self.labels[idx]\n",
    "\n",
    "        if self.transform:\n",
    "            image = self.transform(image)\n",
    "\n",
    "        return image, label\n",
    "\n",
    "# Define the transformations (including normalization)\n",
    "transform = transforms.Compose([\n",
    "    transforms.ToTensor(),\n",
    "    transforms.Normalize((0.5,), (0.5,)),\n",
    "])\n",
    "\n",
    "# Load the custom dataset using DataLoader\n",
    "train_dataset = CustomMNIST(data_dir='./data/train', transform=transform)\n",
    "test_dataset = CustomMNIST(data_dir='./data/test', transform=transform)\n",
    "\n",
    "train_loader = DataLoader(dataset=train_dataset, batch_size=64, shuffle=True)\n",
    "test_loader = DataLoader(dataset=test_dataset, batch_size=64, shuffle=False)\n",
    "\n",
    "# Visualize a single image with its label from the DataLoader\n",
    "def plot_image(image, label):\n",
    "    plt.figure(figsize=(6, 6))\n",
    "    plt.imshow(image.numpy().squeeze(), cmap='gray')  # Convert tensor to NumPy and remove channel\n",
    "    plt.title(f'Label: {label}')  # Show the label\n",
    "    plt.axis('off')\n",
    "    plt.tight_layout()\n",
    "    plt.show()\n",
    "\n",
    "# Example: Get a batch of images and labels from the train_loader\n",
    "for images, labels in train_loader:\n",
    "    # Plot the first image from the current batch\n",
    "    plot_image(images[17], labels[17])  # Display the first image and its corresponding label\n",
    "    break  # Exit after the first batch to avoid too much output"
   ]
  },
  {
   "cell_type": "code",
   "execution_count": 14,
   "id": "22b411c7",
   "metadata": {},
   "outputs": [
    {
     "name": "stdout",
     "output_type": "stream",
     "text": [
      "torch.Size([64, 1, 28, 28])\n",
      "torch.Size([64])\n"
     ]
    }
   ],
   "source": [
    "print(images.shape)  # This would output: torch.Size([64, 1, 28, 28])\n",
    "print(labels.shape)  # This would output: torch.Size([64])"
   ]
  },
  {
   "cell_type": "code",
   "execution_count": 15,
   "id": "a5f58d5c",
   "metadata": {},
   "outputs": [
    {
     "data": {
      "text/plain": [
       "tensor([1, 9, 8, 5, 0, 6, 3, 7, 2, 9, 5, 9, 9, 8, 7, 4, 1, 5, 4, 3, 4, 1, 0, 4,\n",
       "        3, 5, 1, 6, 9, 7, 1, 1, 9, 7, 8, 9, 6, 1, 4, 2, 4, 0, 7, 9, 1, 4, 3, 1,\n",
       "        6, 2, 4, 2, 1, 2, 7, 9, 9, 1, 8, 9, 2, 6, 3, 8])"
      ]
     },
     "execution_count": 15,
     "metadata": {},
     "output_type": "execute_result"
    }
   ],
   "source": [
    "labels"
   ]
  },
  {
   "cell_type": "code",
   "execution_count": 41,
   "id": "45578f2b",
   "metadata": {
    "scrolled": true
   },
   "outputs": [
    {
     "name": "stderr",
     "output_type": "stream",
     "text": [
      "Clipping input data to the valid range for imshow with RGB data ([0..1] for floats or [0..255] for integers).\n"
     ]
    },
    {
     "data": {
      "image/png": "[encoded data removed]",
      "text/plain": [
       "<Figure size 600x600 with 1 Axes>"
      ]
     },
     "metadata": {},
     "output_type": "display_data"
    },
    {
     "name": "stdout",
     "output_type": "stream",
     "text": [
      "Image Features Shape: torch.Size([1, 1024])\n",
      "Image Features: tensor([[-0.0168,  0.0101, -0.0022,  ..., -0.0203,  0.0242, -0.0107]])\n",
      "Text Features Shape: torch.Size([1, 1024])\n",
      "Text Features: tensor([[ 0.1817,  0.0590, -0.2425,  ..., -0.2610, -0.0913,  0.3809]],\n",
      "       grad_fn=<MmBackward0>)\n"
     ]
    }
   ],
   "source": [
    "# Custom dataset class\n",
    "class CustomMNIST(Dataset):\n",
    "    def __init__(self, data_dir, transform=None):\n",
    "        self.data_dir = data_dir\n",
    "        self.transform = transform\n",
    "        self.images = []\n",
    "        self.labels = []\n",
    "\n",
    "        # Load images and labels from the directory\n",
    "        for label in os.listdir(data_dir):\n",
    "            label_dir = os.path.join(data_dir, label)\n",
    "            if os.path.isdir(label_dir):\n",
    "                for img_file in os.listdir(label_dir):\n",
    "                    img_path = os.path.join(label_dir, img_file)\n",
    "                    self.images.append(img_path)\n",
    "                    self.labels.append(int(label[-1]))  # Extract label from folder name\n",
    "\n",
    "    def __len__(self):\n",
    "        return len(self.images)\n",
    "\n",
    "    def __getitem__(self, idx):\n",
    "        img_path = self.images[idx]\n",
    "        image = Image.open(img_path).convert('RGB')  # Convert to grayscale\n",
    "        label = self.labels[idx]\n",
    "\n",
    "        if self.transform:\n",
    "            image = self.transform(image)\n",
    "\n",
    "        return image, label\n",
    "\n",
    "# Define the transformations (including normalization)\n",
    "transform = transforms.Compose([\n",
    "    transforms.Resize((224, 224)),  # Resize to fit CLIP model requirements\n",
    "    transforms.ToTensor(),\n",
    "    transforms.Normalize((0.5, 0.5, 0.5), (0.5, 0.5, 0.5)),  # Normalize for 3 channels\n",
    "])\n",
    "\n",
    "# Load the custom dataset using DataLoader\n",
    "train_dataset = CustomMNIST(data_dir='./data/train', transform=transform)\n",
    "test_dataset = CustomMNIST(data_dir='./data/test', transform=transform)\n",
    "\n",
    "train_loader = DataLoader(dataset=train_dataset, batch_size=64, shuffle=True)\n",
    "test_loader = DataLoader(dataset=test_dataset, batch_size=64, shuffle=False)\n",
    "\n",
    "# Visualize a single image with its label from the DataLoader\n",
    "def plot_image(image, label):\n",
    "    plt.figure(figsize=(6, 6))\n",
    "    plt.imshow(image.permute(1, 2, 0).numpy())\n",
    "    #plt.imshow(image.numpy().squeeze())#, cmap='gray')  # Convert tensor to NumPy and remove channel\n",
    "    plt.title(f'Label: {label}')  # Show the label\n",
    "    plt.axis('off')\n",
    "    plt.tight_layout()\n",
    "    plt.show()\n",
    "\n",
    "# Load the CLIP model\n",
    "device =\"cpu\"\n",
    "model, preprocess = clip.load(\"RN50\", device=device, jit=False)  # Force to load on CPU\n",
    "\n",
    "# Example: Get a batch of images and labels from the train_loader\n",
    "for images, labels in train_loader:\n",
    "    # Plot the first image from the current batch\n",
    "    plot_image(images[0], labels[0])  # Display the first image and its corresponding label\n",
    "    \n",
    "    # Preprocess the image for CLIP (no need to apply transforms again)\n",
    "    img_for_clip = images[0].unsqueeze(0).to(device)  # Add batch dimension and move to device\n",
    "    \n",
    "    # Encode the image using CLIP\n",
    "    with torch.no_grad():\n",
    "        image_features = model.encode_image(img_for_clip)\n",
    "\n",
    "    print(\"Image Features Shape:\", image_features.shape)\n",
    "    print(\"Image Features:\", image_features)\n",
    "\n",
    "    # Test with dummy text\n",
    "    text = clip.tokenize([\"a photo of a handwritten digit\"]).to(device)\n",
    "\n",
    "    # Encode the text\n",
    "    #with torch.no_grad():\n",
    "    text_features = model.encode_text(text)\n",
    "\n",
    "    print(\"Text Features Shape:\", text_features.shape)\n",
    "    print(\"Text Features:\", text_features)\n",
    "\n",
    "    break  # Exit after the first batch to avoid too much output"
   ]
  },
  {
   "cell_type": "code",
   "execution_count": 4,
   "id": "076b937f",
   "metadata": {},
   "outputs": [
    {
     "name": "stdout",
     "output_type": "stream",
     "text": [
      "Batch of images shape: torch.Size([64, 3, 224, 224])\n"
     ]
    },
    {
     "ename": "AttributeError",
     "evalue": "'tuple' object has no attribute 'shape'",
     "output_type": "error",
     "traceback": [
      "\u001b[0;31m---------------------------------------------------------------------------\u001b[0m",
      "\u001b[0;31mAttributeError\u001b[0m                            Traceback (most recent call last)",
      "Cell \u001b[0;32mIn[4], line 55\u001b[0m\n\u001b[1;32m     53\u001b[0m \u001b[38;5;28;01mfor\u001b[39;00m images, labels \u001b[38;5;129;01min\u001b[39;00m train_loader:\n\u001b[1;32m     54\u001b[0m     \u001b[38;5;28mprint\u001b[39m(\u001b[38;5;124mf\u001b[39m\u001b[38;5;124m\"\u001b[39m\u001b[38;5;124mBatch of images shape: \u001b[39m\u001b[38;5;132;01m{\u001b[39;00mimages\u001b[38;5;241m.\u001b[39mshape\u001b[38;5;132;01m}\u001b[39;00m\u001b[38;5;124m\"\u001b[39m)\n\u001b[0;32m---> 55\u001b[0m     \u001b[38;5;28mprint\u001b[39m(\u001b[38;5;124mf\u001b[39m\u001b[38;5;124m\"\u001b[39m\u001b[38;5;124mBatch of labels: \u001b[39m\u001b[38;5;132;01m{\u001b[39;00mlabels\u001b[38;5;241m.\u001b[39mshape\u001b[38;5;132;01m}\u001b[39;00m\u001b[38;5;124m\"\u001b[39m)\n\u001b[1;32m     56\u001b[0m     \u001b[38;5;28;01mbreak\u001b[39;00m\n",
      "\u001b[0;31mAttributeError\u001b[0m: 'tuple' object has no attribute 'shape'"
     ]
    }
   ],
   "source": [
    "import os\n",
    "from PIL import Image\n",
    "from torch.utils.data import Dataset, DataLoader\n",
    "from torchvision import transforms\n",
    "\n",
    "# CLIP Preprocessing\n",
    "transform = transforms.Compose([\n",
    "    transforms.Resize((224, 224)),    # Resize the image to match CLIP's input size\n",
    "    transforms.Grayscale(num_output_channels=3),  # Convert 1-channel grayscale to 3-channel\n",
    "    transforms.ToTensor(),  # Convert the image to a tensor\n",
    "    transforms.Normalize(mean=[0.48145466, 0.4578275, 0.40821073], \n",
    "                         std=[0.26862954, 0.26130258, 0.27577711])  # CLIP's normalization\n",
    "])\n",
    "\n",
    "# Custom dataset class\n",
    "class CustomMNIST(Dataset):\n",
    "    def __init__(self, data_dir, transform=None):\n",
    "        self.data_dir = data_dir\n",
    "        self.transform = transform\n",
    "        self.images = []\n",
    "        self.labels = []\n",
    "\n",
    "        # Load images and labels from the directory\n",
    "        for label in os.listdir(data_dir):\n",
    "            label_dir = os.path.join(data_dir, label)\n",
    "            if os.path.isdir(label_dir):\n",
    "                for img_file in os.listdir(label_dir):\n",
    "                    img_path = os.path.join(label_dir, img_file)\n",
    "                    self.images.append(img_path)\n",
    "                    self.labels.append('digit ' + label[-1])  # Extract label from folder name\n",
    "\n",
    "    def __len__(self):\n",
    "        return len(self.images)\n",
    "\n",
    "    def __getitem__(self, idx):\n",
    "        img_path = self.images[idx]\n",
    "        image = Image.open(img_path).convert('L')  # Open as grayscale\n",
    "        label = self.labels[idx]\n",
    "\n",
    "        if self.transform:\n",
    "            image = self.transform(image)\n",
    "        label_tensor = tensor([int(label[-1])])\n",
    "        return image, label_tensor\n",
    "\n",
    "# Load the custom dataset using DataLoader\n",
    "train_dataset = CustomMNIST(data_dir='./data/train', transform=transform)\n",
    "test_dataset = CustomMNIST(data_dir='./data/test', transform=transform)\n",
    "\n",
    "train_loader = DataLoader(dataset=train_dataset, batch_size=64, shuffle=True)\n",
    "test_loader = DataLoader(dataset=test_dataset, batch_size=64, shuffle=False)\n",
    "\n",
    "# Example of loading one batch\n",
    "for images, labels in train_loader:\n",
    "    print(f\"Batch of images shape: {images.shape}\")\n",
    "    print(f\"Batch of labels: {labels.shape}\")\n",
    "    break\n"
   ]
  },
  {
   "cell_type": "code",
   "execution_count": null,
   "id": "03b8943f",
   "metadata": {},
   "outputs": [],
   "source": []
  }
 ],
 "metadata": {
  "kernelspec": {
   "display_name": "Python 3 (ipykernel)",
   "language": "python",
   "name": "python3"
  },
  "language_info": {
   "codemirror_mode": {
    "name": "ipython",
    "version": 3
   },
   "file_extension": ".py",
   "mimetype": "text/x-python",
   "name": "python",
   "nbconvert_exporter": "python",
   "pygments_lexer": "ipython3",
   "version": "3.8.15"
  }
 },
 "nbformat": 4,
 "nbformat_minor": 5
}
